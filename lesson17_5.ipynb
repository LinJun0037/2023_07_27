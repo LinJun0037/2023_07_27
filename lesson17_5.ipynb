{
 "cells": [
  {
   "cell_type": "code",
   "execution_count": 1,
   "metadata": {},
   "outputs": [
    {
     "data": {
      "text/plain": [
       "0      95\n",
       "1      82\n",
       "2      66\n",
       "3      91\n",
       "4      55\n",
       "5      90\n",
       "6      80\n",
       "7      85\n",
       "8      72\n",
       "9      70\n",
       "10     63\n",
       "11     77\n",
       "12     66\n",
       "13    100\n",
       "14     96\n",
       "15     89\n",
       "16     64\n",
       "17     75\n",
       "18     60\n",
       "19     97\n",
       "20     66\n",
       "21     88\n",
       "22     89\n",
       "23     85\n",
       "24     51\n",
       "25     73\n",
       "26     74\n",
       "27     62\n",
       "28     92\n",
       "29     64\n",
       "30     89\n",
       "31     91\n",
       "32     71\n",
       "33     55\n",
       "34     85\n",
       "35     86\n",
       "36     55\n",
       "37     86\n",
       "38     92\n",
       "39     92\n",
       "40     61\n",
       "41     72\n",
       "42     99\n",
       "43     80\n",
       "44     66\n",
       "45     84\n",
       "46     82\n",
       "47     86\n",
       "48     75\n",
       "49     76\n",
       "Name: 國文, dtype: int64"
      ]
     },
     "execution_count": 1,
     "metadata": {},
     "output_type": "execute_result"
    }
   ],
   "source": [
    "import pandas as pd\n",
    "df = pd.read_csv('學生成績.csv')\n",
    "\n",
    "#使用subscript搜尋Series value\n",
    "chinese_s = df[\"國文\"]\n",
    "chinese_s"
   ]
  },
  {
   "cell_type": "code",
   "execution_count": 2,
   "metadata": {},
   "outputs": [
    {
     "data": {
      "text/plain": [
       "0      95\n",
       "1      82\n",
       "2      66\n",
       "3      91\n",
       "5      90\n",
       "6      80\n",
       "7      85\n",
       "8      72\n",
       "9      70\n",
       "10     63\n",
       "11     77\n",
       "12     66\n",
       "13    100\n",
       "14     96\n",
       "15     89\n",
       "16     64\n",
       "17     75\n",
       "18     60\n",
       "19     97\n",
       "20     66\n",
       "21     88\n",
       "22     89\n",
       "23     85\n",
       "25     73\n",
       "26     74\n",
       "27     62\n",
       "28     92\n",
       "29     64\n",
       "30     89\n",
       "31     91\n",
       "32     71\n",
       "34     85\n",
       "35     86\n",
       "37     86\n",
       "38     92\n",
       "39     92\n",
       "40     61\n",
       "41     72\n",
       "42     99\n",
       "43     80\n",
       "44     66\n",
       "45     84\n",
       "46     82\n",
       "47     86\n",
       "48     75\n",
       "49     76\n",
       "Name: 國文, dtype: int64"
      ]
     },
     "execution_count": 2,
     "metadata": {},
     "output_type": "execute_result"
    }
   ],
   "source": [
    "#國文及格的\n",
    "chinese_s[chinese_s >= 60]"
   ]
  },
  {
   "cell_type": "code",
   "execution_count": 3,
   "metadata": {},
   "outputs": [
    {
     "data": {
      "text/plain": [
       "11    58\n",
       "20    55\n",
       "22    50\n",
       "24    52\n",
       "43    57\n",
       "Name: 數學, dtype: int64"
      ]
     },
     "execution_count": 3,
     "metadata": {},
     "output_type": "execute_result"
    }
   ],
   "source": [
    "#數學及格的\n",
    "math_s = df[\"數學\"]\n",
    "math_s[math_s < 60]"
   ]
  }
 ],
 "metadata": {
  "kernelspec": {
   "display_name": "Python 3",
   "language": "python",
   "name": "python3"
  },
  "language_info": {
   "codemirror_mode": {
    "name": "ipython",
    "version": 3
   },
   "file_extension": ".py",
   "mimetype": "text/x-python",
   "name": "python",
   "nbconvert_exporter": "python",
   "pygments_lexer": "ipython3",
   "version": "3.10.12"
  },
  "orig_nbformat": 4
 },
 "nbformat": 4,
 "nbformat_minor": 2
}
