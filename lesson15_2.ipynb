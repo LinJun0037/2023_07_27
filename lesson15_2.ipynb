{
 "cells": [
  {
   "cell_type": "code",
   "execution_count": 3,
   "metadata": {},
   "outputs": [
    {
     "data": {
      "text/plain": [
       "[3, 7, 11, 15, 19]"
      ]
     },
     "execution_count": 3,
     "metadata": {},
     "output_type": "execute_result"
    }
   ],
   "source": [
    "#建立list\n",
    "#list運算 需使用for in 迴圈抓出list裡面的值\n",
    "a = [1,3,5,7,9]\n",
    "a*2\n",
    "\n",
    "b = [2,4,6,8,10]\n",
    "a+b\n",
    "\n",
    "result = []\n",
    "for i in range(5):\n",
    "    result.append(a[i]+b[i])\n",
    "\n",
    "result"
   ]
  },
  {
   "cell_type": "code",
   "execution_count": 6,
   "metadata": {},
   "outputs": [
    {
     "data": {
      "text/plain": [
       "array([ 3,  7, 11, 15, 19])"
      ]
     },
     "execution_count": 6,
     "metadata": {},
     "output_type": "execute_result"
    }
   ],
   "source": [
    "import numpy as np #as是給小名 能縮減\n",
    "\n",
    "#透過list建立ndArray(陣列運算)\n",
    "\n",
    "a_array = np.array([1,3,5,7,9])\n",
    "a_array*2\n",
    "\n",
    "b_array = np.array([2,4,6,8,10])\n",
    "\n",
    "a_array+b_array"
   ]
  },
  {
   "cell_type": "code",
   "execution_count": 7,
   "metadata": {},
   "outputs": [
    {
     "data": {
      "text/plain": [
       "[99, 76, 83, 71, 86]"
      ]
     },
     "execution_count": 7,
     "metadata": {},
     "output_type": "execute_result"
    }
   ],
   "source": [
    "#使用python建立5個亂數\n",
    "import random as rd\n",
    "\n",
    "[rd.randint(50,100) for _ in range(5)]"
   ]
  },
  {
   "cell_type": "code",
   "execution_count": 8,
   "metadata": {},
   "outputs": [
    {
     "data": {
      "text/plain": [
       "array([[92, 98, 85, 61, 97],\n",
       "       [93, 87, 91, 65, 79],\n",
       "       [64, 96, 56, 79, 54],\n",
       "       [62, 99, 82, 67, 55],\n",
       "       [81, 99, 72, 50, 54],\n",
       "       [71, 61, 85, 96, 83],\n",
       "       [64, 54, 97, 55, 83],\n",
       "       [68, 78, 50, 66, 92],\n",
       "       [54, 52, 82, 80, 60],\n",
       "       [85, 69, 92, 62, 86],\n",
       "       [62, 94, 67, 96, 94],\n",
       "       [51, 90, 89, 74, 64],\n",
       "       [62, 56, 57, 62, 75],\n",
       "       [94, 78, 55, 74, 71],\n",
       "       [64, 90, 94, 59, 94],\n",
       "       [59, 69, 57, 75, 70],\n",
       "       [59, 99, 82, 94, 95],\n",
       "       [84, 65, 66, 87, 86],\n",
       "       [60, 61, 91, 53, 89],\n",
       "       [54, 98, 55, 73, 55],\n",
       "       [92, 81, 82, 94, 74],\n",
       "       [58, 66, 60, 98, 78],\n",
       "       [81, 82, 64, 56, 70],\n",
       "       [68, 89, 90, 83, 67],\n",
       "       [56, 53, 83, 50, 53],\n",
       "       [85, 70, 99, 56, 95],\n",
       "       [63, 97, 79, 86, 84],\n",
       "       [70, 66, 60, 52, 71],\n",
       "       [87, 72, 83, 83, 52],\n",
       "       [94, 59, 52, 95, 73],\n",
       "       [73, 74, 66, 67, 78],\n",
       "       [92, 64, 84, 80, 89],\n",
       "       [90, 68, 69, 97, 88],\n",
       "       [73, 90, 99, 54, 66],\n",
       "       [95, 77, 73, 83, 86],\n",
       "       [93, 50, 80, 92, 76],\n",
       "       [90, 85, 79, 94, 80],\n",
       "       [97, 59, 57, 62, 54],\n",
       "       [62, 75, 90, 56, 59],\n",
       "       [65, 65, 98, 99, 85],\n",
       "       [62, 65, 93, 76, 78],\n",
       "       [78, 86, 78, 63, 51],\n",
       "       [66, 81, 51, 62, 71],\n",
       "       [85, 94, 88, 61, 97],\n",
       "       [79, 78, 97, 84, 85],\n",
       "       [57, 87, 76, 99, 65],\n",
       "       [66, 96, 50, 73, 57],\n",
       "       [57, 73, 55, 54, 66],\n",
       "       [59, 96, 65, 53, 91],\n",
       "       [54, 57, 80, 75, 54]])"
      ]
     },
     "execution_count": 8,
     "metadata": {},
     "output_type": "execute_result"
    }
   ],
   "source": [
    "#建立numpy random 建立亂數\n",
    "import numpy as np\n",
    "np.random.randint(50,high=100,size=(50,5))"
   ]
  }
 ],
 "metadata": {
  "kernelspec": {
   "display_name": "Python 3",
   "language": "python",
   "name": "python3"
  },
  "language_info": {
   "codemirror_mode": {
    "name": "ipython",
    "version": 3
   },
   "file_extension": ".py",
   "mimetype": "text/x-python",
   "name": "python",
   "nbconvert_exporter": "python",
   "pygments_lexer": "ipython3",
   "version": "3.10.12"
  },
  "orig_nbformat": 4
 },
 "nbformat": 4,
 "nbformat_minor": 2
}
