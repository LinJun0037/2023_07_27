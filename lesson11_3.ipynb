{
 "cells": [
  {
   "cell_type": "code",
   "execution_count": 2,
   "metadata": {},
   "outputs": [
    {
     "data": {
      "text/plain": [
       "[['林淑安', 80, 57, 53, 90, 65],\n",
       " ['黃佩玲', 92, 71, 76, 72, 80],\n",
       " ['簡佳樺', 77, 90, 50, 63, 57],\n",
       " ['高士凱', 95, 100, 88, 52, 74],\n",
       " ['賴昌韻', 71, 94, 68, 66, 52],\n",
       " ['元延辛', 98, 56, 56, 97, 77],\n",
       " ['謝水儒', 51, 97, 100, 72, 98],\n",
       " ['陳冠霞', 79, 82, 95, 84, 54],\n",
       " ['戴萱能', 76, 62, 77, 61, 83],\n",
       " ['高信宏', 63, 50, 63, 70, 98],\n",
       " ['黃柏宇', 62, 83, 52, 76, 86],\n",
       " ['梁柏宇', 79, 66, 52, 82, 81],\n",
       " ['林昱芳', 57, 93, 64, 59, 57],\n",
       " ['王良斌', 77, 94, 89, 51, 64],\n",
       " ['姜琬婷', 55, 51, 56, 55, 88],\n",
       " ['周芷蓁', 75, 75, 53, 78, 70],\n",
       " ['林俊翔', 68, 79, 69, 66, 51],\n",
       " ['陳樂紫', 67, 50, 52, 87, 51],\n",
       " ['蔡士賢', 92, 77, 52, 94, 98],\n",
       " ['林佳蓉', 67, 99, 86, 74, 66]]"
      ]
     },
     "execution_count": 2,
     "metadata": {},
     "output_type": "execute_result"
    }
   ],
   "source": [
    "import random\n",
    "def get_score() -> list:\n",
    "    score = []\n",
    "    for i in range(5):\n",
    "        score.append(random.randint(50, 100))\n",
    "    return score\n",
    "\n",
    "def get_names(nums:int) -> list:\n",
    "    with open('names.txt',encoding='utf-8',newline='') as file:\n",
    "        names_str = file.read()\n",
    "        all_names_list = names_str.split(sep=\"\\n\")\n",
    "        names_list = random.choices(all_names_list,k=nums) #取出一定數量的姓名\n",
    "    return names_list\n",
    "nums_int = int(input(\"請輸入學生數:\"))\n",
    "#取得nums_int個姓名\n",
    "names_list = get_names(nums_int)\n",
    "students = []\n",
    "for i in range(nums_int):\n",
    "    scores = get_score()\n",
    "    new_list = [names_list[i]] + scores\n",
    "    students.append(new_list)\n",
    "students "
   ]
  },
  {
   "cell_type": "code",
   "execution_count": null,
   "metadata": {},
   "outputs": [],
   "source": []
  }
 ],
 "metadata": {
  "kernelspec": {
   "display_name": "Python 3",
   "language": "python",
   "name": "python3"
  },
  "language_info": {
   "codemirror_mode": {
    "name": "ipython",
    "version": 3
   },
   "file_extension": ".py",
   "mimetype": "text/x-python",
   "name": "python",
   "nbconvert_exporter": "python",
   "pygments_lexer": "ipython3",
   "version": "3.10.11"
  },
  "orig_nbformat": 4
 },
 "nbformat": 4,
 "nbformat_minor": 2
}
