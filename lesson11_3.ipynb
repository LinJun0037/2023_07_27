{
 "cells": [
  {
   "cell_type": "code",
   "execution_count": 7,
   "metadata": {},
   "outputs": [
    {
     "data": {
      "text/plain": [
       "[['劉雯芬', 86, 81, 64, 70, 55],\n",
       " ['張嘉韋', 65, 78, 69, 82, 82],\n",
       " ['陳樂紫', 78, 66, 52, 67, 82],\n",
       " ['楊偉翔', 85, 74, 93, 52, 96],\n",
       " ['林建宏', 93, 94, 72, 71, 74],\n",
       " ['游淑惠', 75, 89, 92, 52, 79],\n",
       " ['王品星', 59, 71, 52, 79, 84],\n",
       " ['林士凱', 57, 55, 92, 68, 61],\n",
       " ['鄭琇亞', 91, 73, 68, 54, 61],\n",
       " ['高信宏', 62, 53, 70, 98, 54],\n",
       " ['彭茹靖', 94, 99, 72, 62, 97],\n",
       " ['楊偉翔', 54, 70, 96, 97, 64],\n",
       " ['陳孝邦', 65, 69, 57, 67, 91],\n",
       " ['李湘婷', 65, 92, 100, 58, 54],\n",
       " ['王明昇', 96, 72, 50, 85, 78],\n",
       " ['王怡珊', 75, 54, 98, 59, 71],\n",
       " ['傅佳琳', 97, 82, 91, 54, 51],\n",
       " ['楊韋廷', 69, 50, 69, 55, 66],\n",
       " ['葉軍仰', 79, 73, 55, 81, 52],\n",
       " ['周怡啟', 89, 65, 65, 95, 95],\n",
       " ['張婕妤', 76, 85, 61, 87, 85],\n",
       " ['黃佩芬', 91, 80, 54, 52, 81],\n",
       " ['陳冠竹', 50, 82, 80, 61, 64],\n",
       " ['唐雪豪', 81, 75, 60, 76, 56],\n",
       " ['吳振瑋', 100, 60, 72, 74, 69],\n",
       " ['陳怡珊', 76, 83, 81, 93, 60],\n",
       " ['盧冠發', 74, 97, 98, 99, 51],\n",
       " ['陳姵彬', 56, 99, 68, 97, 50],\n",
       " ['彭偉妃', 57, 58, 71, 57, 96],\n",
       " ['吳柏誠', 95, 61, 91, 77, 93],\n",
       " ['吳昕婷', 76, 92, 76, 64, 93],\n",
       " ['林珈發', 59, 81, 80, 68, 75],\n",
       " ['黃柏宇', 76, 91, 73, 54, 57],\n",
       " ['朱士弘', 95, 95, 72, 69, 79],\n",
       " ['林向鈺', 92, 82, 85, 95, 65],\n",
       " ['陳倩潔', 94, 80, 62, 92, 52],\n",
       " ['陳倩妮', 59, 78, 50, 83, 67],\n",
       " ['陳奇瑄', 82, 61, 92, 60, 54],\n",
       " ['白世宏', 62, 84, 68, 53, 75],\n",
       " ['朱彥志', 74, 78, 52, 87, 98],\n",
       " ['溫重意', 64, 52, 94, 85, 90],\n",
       " ['劉雯芬', 92, 96, 66, 74, 58],\n",
       " ['劉林中', 60, 71, 82, 92, 96],\n",
       " ['黃善迪', 82, 58, 85, 95, 54],\n",
       " ['黃心航', 84, 92, 99, 95, 80],\n",
       " ['吳明妮', 64, 77, 83, 55, 99],\n",
       " ['黃翔杰', 64, 52, 73, 99, 100],\n",
       " ['鄭憲定', 52, 79, 82, 55, 64],\n",
       " ['吳麗卿', 85, 60, 52, 66, 51],\n",
       " ['林佳人', 94, 76, 98, 67, 94]]"
      ]
     },
     "execution_count": 7,
     "metadata": {},
     "output_type": "execute_result"
    }
   ],
   "source": [
    "import random\n",
    "def get_score()->list:\n",
    "    score = []\n",
    "    for i in range(5):\n",
    "        score.append(random.randint(50,100))\n",
    "    return score\n",
    "\n",
    "def get_names(nums:int)->list:\n",
    "    with open(\"names.txt\",encoding='utf-8',newline='') as file:\n",
    "        names_txt = file.read()\n",
    "        all_names = names_txt.split(sep=\"\\n\")\n",
    "        names_list = random.choices(all_names,k=nums) #取出一定數量的姓名\n",
    "    return names_list\n",
    "\n",
    "\n",
    "nums_int = int(input(\"請輸入學生數:\"))\n",
    "#取得nums_int個姓名\n",
    "names_list = get_names(nums_int)\n",
    "\n",
    "students = []\n",
    "for i in range(nums_int):\n",
    "    scores = get_score()\n",
    "    new_list = [names_list[i]] + scores\n",
    "    students.append(new_list)\n",
    "students"
   ]
  },
  {
   "cell_type": "code",
   "execution_count": 8,
   "metadata": {},
   "outputs": [
    {
     "name": "stdout",
     "output_type": "stream",
     "text": [
      "存檔成功\n"
     ]
    }
   ],
   "source": [
    "import csv\n",
    "#將2維list儲存為csv檔\n",
    "fileName = input(\"請輸入檔案名:(csv)\")\n",
    "with open(f'{fileName}.csv',mode='w',encoding='utf-8', newline='') as file:\n",
    "    csv_writer = csv.writer(file)\n",
    "    csv_writer.writerows(students)\n",
    "\n",
    "print(\"存檔成功\")"
   ]
  }
 ],
 "metadata": {
  "kernelspec": {
   "display_name": "Python 3",
   "language": "python",
   "name": "python3"
  },
  "language_info": {
   "codemirror_mode": {
    "name": "ipython",
    "version": 3
   },
   "file_extension": ".py",
   "mimetype": "text/x-python",
   "name": "python",
   "nbconvert_exporter": "python",
   "pygments_lexer": "ipython3",
   "version": "3.10.11"
  },
  "orig_nbformat": 4
 },
 "nbformat": 4,
 "nbformat_minor": 2
}
