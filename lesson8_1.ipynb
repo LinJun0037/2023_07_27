{
 "cells": [
  {
   "cell_type": "code",
   "execution_count": 2,
   "metadata": {},
   "outputs": [
    {
     "name": "stdout",
     "output_type": "stream",
     "text": [
      "Hello \n",
      " World\n"
     ]
    }
   ],
   "source": [
    "greeting = 'Hello World'\n",
    "print(greeting[:6])\n",
    "print(greeting[-6:])"
   ]
  },
  {
   "cell_type": "code",
   "execution_count": 8,
   "metadata": {},
   "outputs": [
    {
     "data": {
      "text/plain": [
       "str"
      ]
     },
     "metadata": {},
     "output_type": "display_data"
    },
    {
     "data": {
      "text/plain": [
       "'Tapei'"
      ]
     },
     "execution_count": 8,
     "metadata": {},
     "output_type": "execute_result"
    }
   ],
   "source": [
    "city = 'tapei'\n",
    "display(type(city))\n",
    "city = city.capitalize() #字串實體的方法,capitalize()\n",
    "\n",
    "city"
   ]
  },
  {
   "cell_type": "code",
   "execution_count": 13,
   "metadata": {},
   "outputs": [
    {
     "data": {
      "text/plain": [
       "'Penny'"
      ]
     },
     "execution_count": 13,
     "metadata": {},
     "output_type": "execute_result"
    }
   ],
   "source": [
    "#str.replace()\n",
    "name = 'Henny'\n",
    "name = name.replace(\"H\",\"P\")\n",
    "name"
   ]
  },
  {
   "cell_type": "code",
   "execution_count": 15,
   "metadata": {},
   "outputs": [
    {
     "data": {
      "text/plain": [
       "'Penny'"
      ]
     },
     "execution_count": 15,
     "metadata": {},
     "output_type": "execute_result"
    }
   ],
   "source": [
    "name = 'Henny'\n",
    "name = \"P\" + name[1:]\n",
    "name"
   ]
  },
  {
   "cell_type": "code",
   "execution_count": 29,
   "metadata": {},
   "outputs": [
    {
     "data": {
      "text/plain": [
       "8"
      ]
     },
     "execution_count": 29,
     "metadata": {},
     "output_type": "execute_result"
    }
   ],
   "source": [
    "#str.find() 沒有的話就是-1\n",
    "str = \"this is Python Tutorial , there\"\n",
    "display(str.find(\"Python\"))\n",
    "\n",
    "\n",
    "str.find(\"not\")"
   ]
  },
  {
   "cell_type": "code",
   "execution_count": 19,
   "metadata": {},
   "outputs": [
    {
     "data": {
      "text/plain": [
       "'a-b-c-d-e'"
      ]
     },
     "execution_count": 19,
     "metadata": {},
     "output_type": "execute_result"
    }
   ],
   "source": [
    "#str.join() 字串連結\n",
    "str1 = \"-\"\n",
    "\"-\".join(\"abcde\")"
   ]
  },
  {
   "cell_type": "code",
   "execution_count": 24,
   "metadata": {},
   "outputs": [
    {
     "data": {
      "text/plain": [
       "['python', 'jave', 'c++', 'ruby']"
      ]
     },
     "execution_count": 24,
     "metadata": {},
     "output_type": "execute_result"
    }
   ],
   "source": [
    "#str.split 字串切割\n",
    "str2 = \"python,jave,c++,ruby\"\n",
    "str2.split(sep=\",\")"
   ]
  },
  {
   "cell_type": "code",
   "execution_count": 34,
   "metadata": {},
   "outputs": [
    {
     "name": "stdout",
     "output_type": "stream",
     "text": [
      "請輸入age:\n",
      "輸入錯誤\n"
     ]
    }
   ],
   "source": [
    "print(\"請輸入age:\")\n",
    "age = input(\"請輸入age:\")\n",
    "if not age.isdigit():\n",
    "    print(\"輸入錯誤\")\n",
    "else:\n",
    "    print(f\"您的age:{age}\")"
   ]
  },
  {
   "cell_type": "code",
   "execution_count": 44,
   "metadata": {},
   "outputs": [
    {
     "name": "stdout",
     "output_type": "stream",
     "text": [
      "               hello\n",
      "hello               \n",
      "-------hello--------\n"
     ]
    }
   ],
   "source": [
    "print('hello'.rjust(20))\n",
    "print('hello'.ljust(20))\n",
    "print('hello'.center(20,\"-\"))"
   ]
  },
  {
   "cell_type": "code",
   "execution_count": 46,
   "metadata": {},
   "outputs": [
    {
     "name": "stdout",
     "output_type": "stream",
     "text": [
      "---------早餐---------\n",
      "三明治............   25\n",
      "火腿蛋............   30\n"
     ]
    }
   ],
   "source": [
    "print('早餐'.center(20,'-'))\n",
    "print('三明治'.ljust(15,'.') + '25'.rjust(5))\n",
    "print('火腿蛋'.ljust(15,'.') + '30'.rjust(5))"
   ]
  }
 ],
 "metadata": {
  "kernelspec": {
   "display_name": "Python 3",
   "language": "python",
   "name": "python3"
  },
  "language_info": {
   "codemirror_mode": {
    "name": "ipython",
    "version": 3
   },
   "file_extension": ".py",
   "mimetype": "text/x-python",
   "name": "python",
   "nbconvert_exporter": "python",
   "pygments_lexer": "ipython3",
   "version": "3.10.12"
  },
  "orig_nbformat": 4
 },
 "nbformat": 4,
 "nbformat_minor": 2
}
