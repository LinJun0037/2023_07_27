{
 "cells": [
  {
   "cell_type": "code",
   "execution_count": 1,
   "metadata": {},
   "outputs": [
    {
     "data": {
      "text/plain": [
       "([79, 92, 68, 75, 65], [78, 95, 68, 72, 65], [72, 91, 69, 71, 62])"
      ]
     },
     "execution_count": 1,
     "metadata": {},
     "output_type": "execute_result"
    }
   ],
   "source": [
    "#2維list\n",
    "students = [[79,92,68,75,65],\n",
    "            [78,95,68,72,65],\n",
    "            [72,91,69,71,62]]\n",
    "\n",
    "students[0] ,students[1] ,students[2]"
   ]
  },
  {
   "cell_type": "code",
   "execution_count": 2,
   "metadata": {},
   "outputs": [
    {
     "name": "stdout",
     "output_type": "stream",
     "text": [
      "[79, 92, 68, 75, 65]\n",
      "[78, 95, 68, 72, 65]\n",
      "[72, 91, 69, 71, 62]\n"
     ]
    }
   ],
   "source": [
    "for student in students:\n",
    "    print(student)"
   ]
  },
  {
   "cell_type": "code",
   "execution_count": 7,
   "metadata": {},
   "outputs": [
    {
     "data": {
      "text/plain": [
       "[[51, 94, 95, 51, 92],\n",
       " [55, 75, 80, 73, 67],\n",
       " [95, 84, 99, 61, 79],\n",
       " [70, 59, 60, 64, 72],\n",
       " [50, 97, 66, 98, 71],\n",
       " [65, 90, 73, 92, 86],\n",
       " [84, 83, 81, 75, 78],\n",
       " [61, 68, 74, 65, 66],\n",
       " [70, 96, 64, 85, 61],\n",
       " [86, 86, 51, 89, 55],\n",
       " [54, 100, 53, 86, 62],\n",
       " [52, 73, 80, 80, 65],\n",
       " [82, 56, 50, 73, 79],\n",
       " [88, 60, 96, 77, 78],\n",
       " [89, 96, 68, 58, 69],\n",
       " [52, 76, 53, 60, 62],\n",
       " [89, 54, 91, 93, 52],\n",
       " [88, 75, 91, 65, 53],\n",
       " [84, 71, 84, 69, 54],\n",
       " [61, 94, 89, 69, 58],\n",
       " [82, 87, 100, 60, 64],\n",
       " [96, 63, 85, 53, 73],\n",
       " [97, 81, 78, 69, 72],\n",
       " [63, 64, 64, 73, 71],\n",
       " [51, 61, 93, 89, 99],\n",
       " [99, 86, 73, 96, 93],\n",
       " [73, 93, 99, 98, 64],\n",
       " [85, 76, 71, 66, 73],\n",
       " [50, 70, 71, 100, 89],\n",
       " [81, 63, 89, 62, 71],\n",
       " [61, 65, 66, 100, 54],\n",
       " [56, 77, 93, 95, 77],\n",
       " [76, 69, 99, 87, 51],\n",
       " [98, 79, 82, 87, 96],\n",
       " [83, 63, 80, 88, 69],\n",
       " [87, 80, 76, 68, 75],\n",
       " [64, 86, 87, 69, 61],\n",
       " [71, 54, 68, 88, 98],\n",
       " [96, 75, 50, 62, 55],\n",
       " [93, 63, 59, 71, 59],\n",
       " [86, 68, 76, 95, 81],\n",
       " [90, 68, 56, 85, 64],\n",
       " [86, 76, 99, 94, 78],\n",
       " [57, 57, 84, 87, 92],\n",
       " [56, 51, 62, 60, 72],\n",
       " [57, 50, 92, 86, 68],\n",
       " [97, 71, 100, 86, 72],\n",
       " [93, 100, 85, 96, 50],\n",
       " [65, 57, 85, 67, 86],\n",
       " [92, 82, 75, 71, 83]]"
      ]
     },
     "execution_count": 7,
     "metadata": {},
     "output_type": "execute_result"
    }
   ],
   "source": [
    "import random\n",
    "def get_score()->list:\n",
    "    score = []\n",
    "    for i in range(5):\n",
    "        score.append(random.randint(50,100))\n",
    "    return score\n",
    "\n",
    "students = []\n",
    "for i in range(50):\n",
    "    scores = get_score()\n",
    "    students.append(scores)\n",
    "students    "
   ]
  }
 ],
 "metadata": {
  "kernelspec": {
   "display_name": "Python 3",
   "language": "python",
   "name": "python3"
  },
  "language_info": {
   "codemirror_mode": {
    "name": "ipython",
    "version": 3
   },
   "file_extension": ".py",
   "mimetype": "text/x-python",
   "name": "python",
   "nbconvert_exporter": "python",
   "pygments_lexer": "ipython3",
   "version": "3.10.11"
  },
  "orig_nbformat": 4
 },
 "nbformat": 4,
 "nbformat_minor": 2
}
