{
 "cells": [
  {
   "cell_type": "code",
   "execution_count": 3,
   "metadata": {},
   "outputs": [
    {
     "name": "stdout",
     "output_type": "stream",
     "text": [
      "獎金:0\n"
     ]
    }
   ],
   "source": [
    "chinese = int(input(\"請輸入國文分數\"))\n",
    "math = int(input(\"請輸入數學分數\"))\n",
    "#巢狀判斷\n",
    "bonus = 0\n",
    "if chinese == 100:\n",
    "    if math == 100:\n",
    "        bonus = 1000\n",
    "    else:\n",
    "        bonus = 500\n",
    "elif math == 100:\n",
    "        bonus = 500\n",
    "\n",
    "print (f\"獎金:{bonus}\")\n",
    "    "
   ]
  },
  {
   "cell_type": "code",
   "execution_count": 7,
   "metadata": {},
   "outputs": [
    {
     "name": "stdout",
     "output_type": "stream",
     "text": [
      "獎金:500\n"
     ]
    }
   ],
   "source": [
    "chinese = int(input(\"請輸入國文分數\"))\n",
    "math = int(input(\"請輸入數學分數\"))\n",
    "#邏輯運算\n",
    "bonus = 0\n",
    "\n",
    "if chinese == 100 and math == 100 :\n",
    "    bonus = 1000\n",
    "elif chinese == 100 or math == 100 :\n",
    "    bonus = 500\n",
    "else:\n",
    "    bonus = 0\n",
    "\n",
    "print(f\"獎金:{bonus}\")"
   ]
  },
  {
   "cell_type": "code",
   "execution_count": 8,
   "metadata": {},
   "outputs": [
    {
     "name": "stdout",
     "output_type": "stream",
     "text": [
      "獎金:1000\n"
     ]
    }
   ],
   "source": [
    "chinese = int(input(\"請輸入國文分數\"))\n",
    "math = int(input(\"請輸入數學分數\"))\n",
    "#邏輯運算\n",
    "#錯誤的寫法\n",
    "#嚴格的條件要先寫,這樣寫會只要有其中一個100就會拿到1000\n",
    "bonus = 0\n",
    "\n",
    "if chinese == 100 or math == 100 :\n",
    "    bonus = 1000\n",
    "elif chinese == 100 and math == 100 :\n",
    "    bonus = 500\n",
    "else:\n",
    "    bonus = 0\n",
    "\n",
    "print(f\"獎金:{bonus}\")"
   ]
  },
  {
   "cell_type": "code",
   "execution_count": 11,
   "metadata": {},
   "outputs": [
    {
     "name": "stdout",
     "output_type": "stream",
     "text": [
      "血壓不正常\n"
     ]
    }
   ],
   "source": [
    "pressure = int(input(\"請輸入血壓\"))\n",
    "if pressure >=80 and pressure <=120:\n",
    "    print(\"血壓正常\")\n",
    "else:\n",
    "    print(\"血壓不正常\")"
   ]
  },
  {
   "cell_type": "code",
   "execution_count": 13,
   "metadata": {},
   "outputs": [
    {
     "name": "stdout",
     "output_type": "stream",
     "text": [
      "血壓不正常\n"
     ]
    }
   ],
   "source": [
    "pressure = int(input(\"請輸入血壓\"))\n",
    "if pressure < 80 or pressure >120:\n",
    "    print(\"血壓不正常\")\n",
    "else:\n",
    "    print(\"血壓正常\")"
   ]
  },
  {
   "cell_type": "code",
   "execution_count": 19,
   "metadata": {},
   "outputs": [
    {
     "ename": "NameError",
     "evalue": "name 'prinr' is not defined",
     "output_type": "error",
     "traceback": [
      "\u001b[0;31m---------------------------------------------------------------------------\u001b[0m",
      "\u001b[0;31mNameError\u001b[0m                                 Traceback (most recent call last)",
      "Cell \u001b[0;32mIn[19], line 7\u001b[0m\n\u001b[1;32m      5\u001b[0m     \u001b[39mprint\u001b[39m(\u001b[39m\"\u001b[39m\u001b[39m血壓不正常\u001b[39m\u001b[39m\"\u001b[39m)\n\u001b[1;32m      6\u001b[0m \u001b[39melse\u001b[39;00m:\n\u001b[0;32m----> 7\u001b[0m     prinr(\u001b[39m\"\u001b[39m\u001b[39m血壓正常\u001b[39m\u001b[39m\"\u001b[39m)\n",
      "\u001b[0;31mNameError\u001b[0m: name 'prinr' is not defined"
     ]
    }
   ],
   "source": [
    "pressure = int(input(\"請輸入血壓\"))\n",
    "if pressure < 80:\n",
    "    print(\"血壓不正常\")\n",
    "elif pressure >120:\n",
    "    print(\"血壓不正常\")\n",
    "else:\n",
    "    prinr(\"血壓正常\")"
   ]
  },
  {
   "cell_type": "code",
   "execution_count": 29,
   "metadata": {},
   "outputs": [
    {
     "name": "stdout",
     "output_type": "stream",
     "text": [
      "您的身高:176\n",
      "您的體重:73\n",
      "您的BMI:23.57\n",
      "您的提示:正常範圍\n"
     ]
    }
   ],
   "source": [
    "#BMI計算後分析\n",
    "height = int(input(\"請輸入身高,單位(公分):\"))\n",
    "weight = int(input(\"請輸入體重,單位(公斤):\"))\n",
    "\n",
    "BMI = weight / (height/100) ** 2\n",
    "\n",
    "suggest=\"\"\n",
    "if BMI < 18.5:\n",
    "    suggest = \"體重過輕\"\n",
    "elif BMI <24:\n",
    "    suggest = \"正常範圍\"\n",
    "elif BMI <27:\n",
    "    suggest = \"過重\"\n",
    "elif BMI <30:\n",
    "    suggest = \"輕度肥胖\"\n",
    "elif BMI <35:\n",
    "    suggest = \"中度肥胖\"\n",
    "else:\n",
    "    suggest = \"重度肥胖\"\n",
    "\n",
    "print(f\"您的身高:{height}\")\n",
    "print(f\"您的體重:{weight}\")\n",
    "print(f\"您的BMI:{round(BMI,ndigits=2)}\")\n",
    "print(f\"您的提示:{suggest}\")"
   ]
  }
 ],
 "metadata": {
  "kernelspec": {
   "display_name": "Python 3",
   "language": "python",
   "name": "python3"
  },
  "language_info": {
   "codemirror_mode": {
    "name": "ipython",
    "version": 3
   },
   "file_extension": ".py",
   "mimetype": "text/x-python",
   "name": "python",
   "nbconvert_exporter": "python",
   "pygments_lexer": "ipython3",
   "version": "3.10.12"
  },
  "orig_nbformat": 4
 },
 "nbformat": 4,
 "nbformat_minor": 2
}
