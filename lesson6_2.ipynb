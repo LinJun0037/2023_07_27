{
 "cells": [
  {
   "cell_type": "code",
   "execution_count": 25,
   "metadata": {},
   "outputs": [
    {
     "data": {
      "text/plain": [
       "0"
      ]
     },
     "execution_count": 25,
     "metadata": {},
     "output_type": "execute_result"
    }
   ],
   "source": [
    "#隨機生成亂數\n",
    "import random\n",
    "#0~4的亂數\n",
    "random.randrange(5)"
   ]
  },
  {
   "cell_type": "code",
   "execution_count": 33,
   "metadata": {},
   "outputs": [
    {
     "data": {
      "text/plain": [
       "4"
      ]
     },
     "execution_count": 33,
     "metadata": {},
     "output_type": "execute_result"
    }
   ],
   "source": [
    "random.randrange(3,5)"
   ]
  },
  {
   "cell_type": "code",
   "execution_count": 65,
   "metadata": {},
   "outputs": [
    {
     "data": {
      "text/plain": [
       "5"
      ]
     },
     "execution_count": 65,
     "metadata": {},
     "output_type": "execute_result"
    }
   ],
   "source": [
    "random.randint(1,10)"
   ]
  },
  {
   "cell_type": "code",
   "execution_count": 74,
   "metadata": {},
   "outputs": [
    {
     "name": "stdout",
     "output_type": "stream",
     "text": [
      "=========猜數字遊戲=========\n",
      "\n",
      "\n",
      "再小一點\n",
      "您已經猜了1\n",
      "再大一點\n",
      "您已經猜了2\n",
      "再小一點\n",
      "您已經猜了3\n",
      "再小一點\n",
      "您已經猜了4\n",
      "再小一點\n",
      "您已經猜了5\n",
      "再小一點\n",
      "您已經猜了6\n",
      "再小一點\n",
      "您已經猜了7\n",
      "再小一點\n",
      "您已經猜了8\n",
      "再大一點\n",
      "您已經猜了9\n",
      "賓果!猜對了,答案是:4\n",
      "您總共猜了多少次10次\n",
      "GAME OVER\n"
     ]
    }
   ],
   "source": [
    "min = 1\n",
    "max = 100\n",
    "target = random.randint(1,100)\n",
    "count = 0\n",
    "print(\"=========猜數字遊戲=========\\n\\n\")\n",
    "while True:\n",
    "    keyin = int(input(f\"猜數字的範圍{min}~{max}\"))\n",
    "    count += 1\n",
    "    if keyin >=min and keyin <=max:\n",
    "        if keyin == target:\n",
    "            print(f\"賓果!猜對了,答案是:{keyin}\")\n",
    "            print(f\"您總共猜了多少次{count}次\")\n",
    "            break\n",
    "        elif keyin > target:\n",
    "            print(\"再小一點\")\n",
    "            max = keyin-1\n",
    "        elif keyin < target:\n",
    "            print(\"再大一點\")\n",
    "            min = keyin+1\n",
    "\n",
    "        print(f\"您已經猜了{count}\")\n",
    "\n",
    "    else:\n",
    "        print(\"超出範圍\")\n",
    "print(\"GAME OVER\")"
   ]
  }
 ],
 "metadata": {
  "kernelspec": {
   "display_name": "Python 3",
   "language": "python",
   "name": "python3"
  },
  "language_info": {
   "codemirror_mode": {
    "name": "ipython",
    "version": 3
   },
   "file_extension": ".py",
   "mimetype": "text/x-python",
   "name": "python",
   "nbconvert_exporter": "python",
   "pygments_lexer": "ipython3",
   "version": "3.10.12"
  },
  "orig_nbformat": 4
 },
 "nbformat": 4,
 "nbformat_minor": 2
}
