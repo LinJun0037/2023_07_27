{
 "cells": [
  {
   "cell_type": "code",
   "execution_count": 8,
   "metadata": {},
   "outputs": [
    {
     "name": "stdout",
     "output_type": "stream",
     "text": [
      "['陳家維', '李淑芳', '林建勳', '唐雪豪', '林佳光']\n"
     ]
    },
    {
     "data": {
      "text/plain": [
       "[[86, 72, 93, 51, 80],\n",
       " [85, 66, 64, 66, 61],\n",
       " [74, 66, 92, 81, 83],\n",
       " [69, 61, 50, 77, 96],\n",
       " [95, 75, 50, 96, 63]]"
      ]
     },
     "execution_count": 8,
     "metadata": {},
     "output_type": "execute_result"
    }
   ],
   "source": [
    "import random\n",
    "def get_score()->list:\n",
    "    score = []\n",
    "    for i in range(5):\n",
    "        score.append(random.randint(50,100))\n",
    "    return score\n",
    "\n",
    "nums_int = int(input(\"請輸入學生分數:\"))\n",
    "#取得30個姓名\n",
    "with open(\"names.txt\",encoding='utf-8',newline='') as file:\n",
    "    names_txt = file.read()\n",
    "    all_names = names_txt.split(sep=\"\\n\")\n",
    "    names_list = random.choices(all_names,k=nums_int) #取出一定數量的姓名\n",
    "print(names_list)\n",
    "students = []\n",
    "for i in range(nums_int):\n",
    "    scores = get_score()\n",
    "    students.append(scores)\n",
    "students    "
   ]
  }
 ],
 "metadata": {
  "kernelspec": {
   "display_name": "Python 3",
   "language": "python",
   "name": "python3"
  },
  "language_info": {
   "codemirror_mode": {
    "name": "ipython",
    "version": 3
   },
   "file_extension": ".py",
   "mimetype": "text/x-python",
   "name": "python",
   "nbconvert_exporter": "python",
   "pygments_lexer": "ipython3",
   "version": "3.10.11"
  },
  "orig_nbformat": 4
 },
 "nbformat": 4,
 "nbformat_minor": 2
}
