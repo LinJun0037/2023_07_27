{
 "cells": [
  {
   "cell_type": "code",
   "execution_count": 10,
   "metadata": {},
   "outputs": [
    {
     "name": "stdout",
     "output_type": "stream",
     "text": [
      "['游詩亞', '蔡至剛', '鄧亭聿', '趙偉銘', '許淑婷']\n"
     ]
    },
    {
     "data": {
      "text/plain": [
       "[['游詩亞', 51, 87, 88, 92, 98],\n",
       " ['蔡至剛', 75, 92, 72, 59, 98],\n",
       " ['鄧亭聿', 56, 95, 92, 99, 99],\n",
       " ['趙偉銘', 55, 95, 73, 66, 76],\n",
       " ['許淑婷', 73, 90, 100, 87, 66]]"
      ]
     },
     "execution_count": 10,
     "metadata": {},
     "output_type": "execute_result"
    }
   ],
   "source": [
    "import random\n",
    "def get_score()->list:\n",
    "    score = []\n",
    "    for i in range(5):\n",
    "        score.append(random.randint(50,100))\n",
    "    return score\n",
    "\n",
    "nums_int = int(input(\"請輸入學生分數:\"))\n",
    "#取得30個姓名\n",
    "with open(\"names.txt\",encoding='utf-8',newline='') as file:\n",
    "    names_txt = file.read()\n",
    "    all_names = names_txt.split(sep=\"\\n\")\n",
    "    names_list = random.choices(all_names,k=nums_int) #取出一定數量的姓名\n",
    "print(names_list)\n",
    "\n",
    "\n",
    "students = []\n",
    "for i in range(nums_int):\n",
    "    scores = get_score()\n",
    "    new_list = [names_list[i]] + scores\n",
    "    students.append(new_list)\n",
    "students    "
   ]
  }
 ],
 "metadata": {
  "kernelspec": {
   "display_name": "Python 3",
   "language": "python",
   "name": "python3"
  },
  "language_info": {
   "codemirror_mode": {
    "name": "ipython",
    "version": 3
   },
   "file_extension": ".py",
   "mimetype": "text/x-python",
   "name": "python",
   "nbconvert_exporter": "python",
   "pygments_lexer": "ipython3",
   "version": "3.10.11"
  },
  "orig_nbformat": 4
 },
 "nbformat": 4,
 "nbformat_minor": 2
}
